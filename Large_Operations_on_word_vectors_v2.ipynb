{
  "nbformat": 4,
  "nbformat_minor": 0,
  "metadata": {
    "colab": {
      "name": "Large - Operations on word vectors - v2.ipynb",
      "version": "0.3.2",
      "provenance": [],
      "collapsed_sections": [],
      "include_colab_link": true
    },
    "kernelspec": {
      "display_name": "Python 3",
      "language": "python",
      "name": "python3"
    }
  },
  "cells": [
    {
      "cell_type": "markdown",
      "metadata": {
        "id": "view-in-github",
        "colab_type": "text"
      },
      "source": [
        "[View in Colaboratory](https://colab.research.google.com/github/wronnyhuang/word_embed_demo/blob/master/Large_Operations_on_word_vectors_v2.ipynb)"
      ]
    },
    {
      "metadata": {
        "id": "bi5E3xG1Uoyu",
        "colab_type": "text"
      },
      "cell_type": "markdown",
      "source": [
        "# Operations on word vectors\n",
        "\n",
        "Welcome to your first assignment of this week! \n",
        "\n",
        "Because word embeddings are very computionally expensive to train, most ML practitioners will load a pre-trained set of embeddings. \n",
        "\n",
        "**After this assignment you will be able to:**\n",
        "\n",
        "- Load pre-trained word vectors, and measure similarity using cosine similarity\n",
        "- Use word embeddings to solve word analogy problems such as Man is to Woman as King is to ______. \n",
        "- Modify word embeddings to reduce their gender bias \n",
        "\n",
        "Let's get started! Run the following cell to load the packages you will need."
      ]
    },
    {
      "metadata": {
        "id": "LoExcaP5Uoyw",
        "colab_type": "code",
        "colab": {
          "base_uri": "https://localhost:8080/",
          "height": 207
        },
        "outputId": "a0842c3a-3dee-4752-eb22-5894b8da25a0"
      },
      "cell_type": "code",
      "source": [
        "# clone the git repo with all the helper code and images\n",
        "! rm -rf * .*\n",
        "! git init\n",
        "! git remote add origin https://github.com/wronnyhuang/word_embed_demo\n",
        "! git fetch\n",
        "! git checkout -t origin/master"
      ],
      "execution_count": 1,
      "outputs": [
        {
          "output_type": "stream",
          "text": [
            "rm: refusing to remove '.' or '..' directory: skipping '.'\r\n",
            "rm: refusing to remove '.' or '..' directory: skipping '..'\n",
            "Initialized empty Git repository in /content/.git/\n",
            "remote: Counting objects: 69, done.\u001b[K\n",
            "remote: Compressing objects: 100% (60/60), done.\u001b[K\n",
            "remote: Total 69 (delta 32), reused 28 (delta 6), pack-reused 0\u001b[K\n",
            "Unpacking objects: 100% (69/69), done.\n",
            "From https://github.com/wronnyhuang/word_embed_demo\n",
            " * [new branch]      master     -> origin/master\n",
            "Branch master set up to track remote branch master from origin.\n",
            "Already on 'master'\n"
          ],
          "name": "stdout"
        }
      ]
    },
    {
      "metadata": {
        "id": "50nqcP01Uoy8",
        "colab_type": "text"
      },
      "cell_type": "markdown",
      "source": [
        "Next, lets load the word vectors. For this assignment, we will use 50-dimensional GloVe vectors to represent words. Run the following cell to load the `word_to_vec_map`. "
      ]
    },
    {
      "metadata": {
        "id": "6BKBu5qAIKDf",
        "colab_type": "code",
        "colab": {
          "base_uri": "https://localhost:8080/",
          "height": 314
        },
        "outputId": "ed7ff2f2-8775-4081-8e15-f22a4cb8c70c"
      },
      "cell_type": "code",
      "source": [
        "# download large pretrained glove embeddings (5-min donwload time)\n",
        "! wget http://nlp.stanford.edu/data/glove.840B.300d.zip"
      ],
      "execution_count": 2,
      "outputs": [
        {
          "output_type": "stream",
          "text": [
            "The history saving thread hit an unexpected error (OperationalError('attempt to write a readonly database',)).History will not be written to the database.\n",
            "--2018-08-06 18:30:13--  http://nlp.stanford.edu/data/glove.840B.300d.zip\n",
            "Resolving nlp.stanford.edu (nlp.stanford.edu)... 171.64.67.140\n",
            "Connecting to nlp.stanford.edu (nlp.stanford.edu)|171.64.67.140|:80... connected.\n",
            "HTTP request sent, awaiting response... 302 Found\n",
            "Location: https://nlp.stanford.edu/data/glove.840B.300d.zip [following]\n",
            "--2018-08-06 18:30:13--  https://nlp.stanford.edu/data/glove.840B.300d.zip\n",
            "Connecting to nlp.stanford.edu (nlp.stanford.edu)|171.64.67.140|:443... connected.\n",
            "HTTP request sent, awaiting response... 200 OK\n",
            "Length: 2176768927 (2.0G) [application/zip]\n",
            "Saving to: ‘glove.840B.300d.zip’\n",
            "\n",
            "glove.840B.300d.zip  40%[=======>            ] 839.07M  40.7MB/s    eta 34s    "
          ],
          "name": "stdout"
        },
        {
          "output_type": "stream",
          "text": [
            "glove.840B.300d.zip 100%[===================>]   2.03G  38.7MB/s    in 54s     \n",
            "\n",
            "2018-08-06 18:31:08 (38.5 MB/s) - ‘glove.840B.300d.zip’ saved [2176768927/2176768927]\n",
            "\n"
          ],
          "name": "stdout"
        }
      ]
    },
    {
      "metadata": {
        "id": "dG5xw2qtHthO",
        "colab_type": "code",
        "colab": {
          "base_uri": "https://localhost:8080/",
          "height": 52
        },
        "outputId": "4bd71f8c-c838-479b-e8d1-2b61c450c1ef"
      },
      "cell_type": "code",
      "source": [
        "# unzip large pretrained glove embedding zip file (~3 min)\n",
        "! unzip glove.840B.300d.zip"
      ],
      "execution_count": 3,
      "outputs": [
        {
          "output_type": "stream",
          "text": [
            "Archive:  glove.840B.300d.zip\n",
            "  inflating: glove.840B.300d.txt     \n"
          ],
          "name": "stdout"
        }
      ]
    },
    {
      "metadata": {
        "id": "RIb5tUpFUoy2",
        "colab_type": "code",
        "colab": {
          "base_uri": "https://localhost:8080/",
          "height": 35
        },
        "outputId": "d4c19f10-ebd5-43fe-bc1b-88ad79a339e4"
      },
      "cell_type": "code",
      "source": [
        "import numpy as np\n",
        "from w2v_utils import *"
      ],
      "execution_count": 4,
      "outputs": [
        {
          "output_type": "stream",
          "text": [
            "Using TensorFlow backend.\n"
          ],
          "name": "stderr"
        }
      ]
    },
    {
      "metadata": {
        "id": "EHX9wuLJX6XB",
        "colab_type": "code",
        "colab": {}
      },
      "cell_type": "code",
      "source": [
        "def read_glove_vecs_debugg(glove_file):\n",
        "    with open(glove_file, 'r') as f:\n",
        "        words = set()\n",
        "        word_to_vec_map = {}\n",
        "        \n",
        "        for i, line in enumerate(f):\n",
        "            if np.mod(i,100000)==0: print(i)\n",
        "#             print(line)\n",
        "            if '\\xa0' in line:\n",
        "                print('found one');\n",
        "                continue\n",
        "            linelist = line.strip().split()\n",
        "#             print(line)\n",
        "            curr_word = linelist[0]\n",
        "#             print(curr_word)\n",
        "            words.add(curr_word)\n",
        "#             print(words)\n",
        "            word_to_vec_map[curr_word] = np.array(linelist[1:], dtype=np.float64)\n",
        "#             print(word_to_vec_map)\n",
        "    print(word_to_vec_map['animal'])\n",
        "    print('animal' in words)\n",
        "    return words, word_to_vec_map"
      ],
      "execution_count": 0,
      "outputs": []
    },
    {
      "metadata": {
        "id": "yeNtmussKn3z",
        "colab_type": "code",
        "colab": {
          "base_uri": "https://localhost:8080/",
          "height": 3714
        },
        "outputId": "b7cb54a8-c646-4ab8-d180-48b7e5f0cfec"
      },
      "cell_type": "code",
      "source": [
        "# download default pretrained glove word embedding\n",
        "# ! wget -O glove.6B.50d.txt https://www.dropbox.com/s/2ym56wadis5jslb/glove.6B.50d.txt?dl=0\n",
        "\n",
        "# read glove embedding\n",
        "# words, word_to_vec_map = read_glove_vecs('glove.6B.50d.txt')\n",
        "words, word_to_vec_map = read_glove_vecs_debugg('glove.840B.300d.txt')"
      ],
      "execution_count": 6,
      "outputs": [
        {
          "output_type": "stream",
          "text": [
            "0\n",
            "found one\n",
            "found one\n",
            "found one\n",
            "found one\n",
            "100000\n",
            "found one\n",
            "found one\n",
            "found one\n",
            "found one\n",
            "200000\n",
            "found one\n",
            "found one\n",
            "found one\n",
            "found one\n",
            "found one\n",
            "found one\n",
            "found one\n",
            "found one\n",
            "found one\n",
            "found one\n",
            "found one\n",
            "300000\n",
            "found one\n",
            "found one\n",
            "found one\n",
            "found one\n",
            "found one\n",
            "400000\n",
            "found one\n",
            "found one\n",
            "found one\n",
            "found one\n",
            "500000\n",
            "found one\n",
            "found one\n",
            "found one\n",
            "found one\n",
            "found one\n",
            "found one\n",
            "found one\n",
            "found one\n",
            "600000\n",
            "found one\n",
            "found one\n",
            "found one\n",
            "found one\n",
            "700000\n",
            "found one\n",
            "found one\n",
            "found one\n",
            "found one\n",
            "found one\n",
            "800000\n",
            "found one\n",
            "found one\n",
            "found one\n",
            "found one\n",
            "900000\n",
            "found one\n",
            "found one\n",
            "found one\n",
            "found one\n",
            "found one\n",
            "found one\n",
            "found one\n",
            "found one\n",
            "found one\n",
            "found one\n",
            "1000000\n",
            "found one\n",
            "found one\n",
            "found one\n",
            "found one\n",
            "found one\n",
            "found one\n",
            "found one\n",
            "1100000\n",
            "found one\n",
            "found one\n",
            "found one\n",
            "found one\n",
            "found one\n",
            "found one\n",
            "found one\n",
            "found one\n",
            "1200000\n",
            "found one\n",
            "found one\n",
            "found one\n",
            "found one\n",
            "found one\n",
            "found one\n",
            "found one\n",
            "1300000\n",
            "found one\n",
            "found one\n",
            "found one\n",
            "found one\n",
            "found one\n",
            "found one\n",
            "1400000\n",
            "found one\n",
            "found one\n",
            "found one\n",
            "found one\n",
            "found one\n",
            "found one\n",
            "1500000\n",
            "found one\n",
            "found one\n",
            "found one\n",
            "1600000\n",
            "found one\n",
            "found one\n",
            "found one\n",
            "found one\n",
            "found one\n",
            "found one\n",
            "found one\n",
            "found one\n",
            "found one\n",
            "1700000\n",
            "found one\n",
            "found one\n",
            "found one\n",
            "found one\n",
            "found one\n",
            "found one\n",
            "1800000\n",
            "found one\n",
            "found one\n",
            "found one\n",
            "found one\n",
            "1900000\n",
            "found one\n",
            "found one\n",
            "found one\n",
            "found one\n",
            "found one\n",
            "found one\n",
            "found one\n",
            "found one\n",
            "2000000\n",
            "found one\n",
            "found one\n",
            "found one\n",
            "found one\n",
            "found one\n",
            "found one\n",
            "found one\n"
          ],
          "name": "stdout"
        },
        {
          "output_type": "stream",
          "text": [
            "2100000\n",
            "found one\n",
            "found one\n",
            "found one\n",
            "found one\n",
            "found one\n",
            "found one\n",
            "found one\n",
            "found one\n",
            "found one\n",
            "found one\n",
            "found one\n",
            "[-4.7727e-01 -1.3122e-02 -3.3529e-01 -8.5650e-02  9.8338e-02  6.0179e-01\n",
            " -8.3887e-02  2.5587e-01 -3.7005e-01  2.0352e+00 -5.6619e-01 -1.6431e-01\n",
            " -1.3602e-01  6.3651e-02 -1.1180e-01  4.3472e-02  1.0141e-01  1.6122e+00\n",
            "  2.0064e-01 -6.0667e-01 -3.2919e-01  4.9559e-01 -1.5399e-01  2.0936e-01\n",
            " -2.2887e-01  4.0620e-01  2.1511e-01  5.8288e-04  1.4247e-01 -2.3724e-01\n",
            " -4.6105e-01 -3.5619e-01  7.2872e-02  1.2739e-01  5.6445e-01  1.0786e-01\n",
            " -9.2563e-02 -6.9935e-01 -2.2492e-01  5.8010e-02  9.1524e-02 -4.6712e-02\n",
            " -1.8806e-01  1.6584e-02  2.2050e-02 -3.6569e-01 -5.7173e-01  3.0964e-01\n",
            "  1.7087e-01  1.3354e-03 -1.9002e-01 -2.4579e-01  4.3913e-01 -1.3772e-01\n",
            " -2.0319e-01  2.3338e-01  3.2204e-01 -1.0216e-01 -1.7031e-01  3.2006e-01\n",
            " -2.7546e-02  2.1963e-01  1.1741e-01  1.8695e-01 -1.3815e-01 -4.0598e-01\n",
            "  2.0253e-01 -3.0441e-01  1.1408e-01 -4.9586e-01 -4.2482e-01 -4.0472e-01\n",
            " -2.2199e-01 -1.6614e-01  1.2520e-01 -9.1799e-02 -3.0671e-01 -2.4917e-01\n",
            "  5.0135e-01 -4.8945e-01  2.1181e-02  4.7428e-02 -3.1598e-01 -9.8371e-02\n",
            " -1.1766e-01 -7.3909e-01  5.0269e-01  7.4255e-01 -1.7901e-01 -2.0231e-01\n",
            " -4.3015e-02  4.8341e-01  1.1795e-02 -7.2927e-01 -3.1704e-01  6.4299e-02\n",
            " -4.8438e-01  7.5272e-03  1.2937e-01 -1.9733e-01  6.7125e-02  6.4794e-01\n",
            "  5.3714e-02  4.4635e-01  2.2620e-01 -1.3058e+00 -4.0789e-01 -5.5296e-02\n",
            " -5.5942e-01 -8.1871e-02  3.2430e-01  2.1049e-01  1.3166e-01 -7.7001e-01\n",
            "  4.7168e-01  7.9708e-02  4.9294e-01  2.9735e-01  6.1629e-01  9.8393e-02\n",
            " -3.2012e-01 -2.5920e-02  1.0778e+00 -5.3482e-01 -4.7047e-01  1.4294e-01\n",
            " -2.8439e-02  2.7527e-01 -7.0814e-01 -5.0676e-01 -4.8595e-04 -4.4305e-01\n",
            " -1.1115e-03  1.3716e-01 -1.6892e-01 -1.2237e-01 -1.8712e-01 -8.6393e-02\n",
            "  4.7488e-01  3.6920e-02 -1.8270e+00 -3.8201e-02  1.2060e-01  6.0022e-01\n",
            "  7.0838e-01 -6.4759e-01 -3.1674e-01 -1.6538e-01 -3.9147e-01 -1.1059e-01\n",
            " -8.4656e-02  1.8528e-02 -1.4442e-01 -4.2033e-01  1.0368e-01  1.5335e-01\n",
            "  4.7857e-02 -8.4629e-02 -2.0642e-01 -4.8224e-01  5.2781e-01 -1.6914e-01\n",
            "  1.2049e-01 -1.0047e-01 -3.3488e-01  5.2833e-01  3.2120e-01 -4.2595e-01\n",
            " -2.0113e-01 -8.7945e-02  5.0491e-01  3.2479e-01  3.1208e-01 -1.4864e-02\n",
            "  1.3460e-01  7.2750e-01  8.9456e-02  6.8392e-01  1.5059e-01  5.6596e-01\n",
            "  2.7459e-01  2.3061e-01  3.4628e-01  8.3077e-02 -2.0056e-01 -2.8851e-01\n",
            "  1.5573e-01  6.5201e-02  5.0539e-02 -4.8087e-01 -5.4086e-01  2.7023e-01\n",
            " -1.0841e-01 -1.2300e-01  1.6239e-01  5.5803e-01  2.3528e-02  8.9996e-02\n",
            "  4.8003e-01 -1.5964e-01 -1.7410e-01  5.2416e-01 -3.5153e-01  1.4931e-01\n",
            "  4.3653e-01  5.0333e-01  4.5000e-01  5.8632e-01  5.0301e-01 -1.4222e-01\n",
            "  6.0772e-02  3.0611e-01  2.7225e-01 -3.5810e-02 -2.2951e-01 -3.3867e-01\n",
            " -1.1508e-01  4.2278e-01 -2.6267e-02  8.7928e-02  3.1967e-01 -1.3818e-01\n",
            " -3.5099e-01 -4.8918e-01 -1.5601e-01  4.0581e-01 -1.3168e-01  8.2235e-01\n",
            " -2.0250e-01  4.5071e-01 -5.9783e-01 -2.2821e-01 -2.0818e-01 -3.1495e-02\n",
            "  4.6110e-02  3.9947e-01 -4.8493e-01  1.5740e-01  2.2459e-01 -5.7408e-01\n",
            " -8.0019e-01 -8.9631e-02  5.5248e-02 -2.0463e-02 -2.1576e-01  5.4038e-01\n",
            " -8.2791e-02 -1.3318e-01 -1.0473e-01  5.4665e-02  2.8469e-02  5.0035e-01\n",
            " -4.5664e-01  2.8705e-01  4.4761e-01 -1.6230e-01 -9.8140e-02  4.1451e-01\n",
            "  8.4678e-01 -3.4305e-01 -1.1518e-01 -5.2415e-02 -2.3302e-05 -4.4562e-02\n",
            " -1.2362e-01  3.8517e-01 -6.8348e-02 -5.4624e-01  3.8811e-01 -1.6931e-01\n",
            " -6.7035e-01  1.8889e-01  7.9329e-02  3.1397e-01  1.4161e-01  5.2096e-01\n",
            " -1.1899e-01  3.1657e-01 -1.5692e-01  4.8898e-02  3.0399e-01  2.4083e-01\n",
            " -2.2332e-02 -4.1389e-01  1.1313e-01  4.5055e-01  3.9841e-02 -3.9649e-01\n",
            " -7.0524e-01 -2.0392e-01 -3.2642e-01 -5.1358e-02 -2.5940e-01 -1.8912e-01\n",
            " -4.9042e-01  5.2411e-01  2.0446e-01  1.7792e-01 -2.9661e-01 -1.3497e-02]\n",
            "True\n"
          ],
          "name": "stdout"
        }
      ]
    },
    {
      "metadata": {
        "id": "hTr477aRGBTo",
        "colab_type": "code",
        "colab": {}
      },
      "cell_type": "code",
      "source": [
        ""
      ],
      "execution_count": 0,
      "outputs": []
    },
    {
      "metadata": {
        "id": "1z78WtqtUozB",
        "colab_type": "text"
      },
      "cell_type": "markdown",
      "source": [
        "You've loaded:\n",
        "- `words`: set of words in the vocabulary.\n",
        "- `word_to_vec_map`: dictionary mapping words to their GloVe vector representation.\n",
        "\n",
        "You've seen that one-hot vectors do not do a good job cpaturing what words are similar. GloVe vectors provide much more useful information about the meaning of individual words. Lets now see how you can use GloVe vectors to decide how similar two words are. \n",
        "\n"
      ]
    },
    {
      "metadata": {
        "id": "PYymDCw2UozD",
        "colab_type": "text"
      },
      "cell_type": "markdown",
      "source": [
        "# 1 - Cosine similarity\n",
        "\n",
        "To measure how similar two words are, we need a way to measure the degree of similarity between two embedding vectors for the two words. Given two vectors $u$ and $v$, cosine similarity is defined as follows: \n",
        "\n",
        "$$\\text{CosineSimilarity(u, v)} = \\frac {u . v} {||u||_2 ||v||_2} = cos(\\theta) \\tag{1}$$\n",
        "\n",
        "where $u.v$ is the dot product (or inner product) of two vectors, $||u||_2$ is the norm (or length) of the vector $u$, and $\\theta$ is the angle between $u$ and $v$. This similarity depends on the angle between $u$ and $v$. If $u$ and $v$ are very similar, their cosine similarity will be close to 1; if they are dissimilar, the cosine similarity will take a smaller value. \n",
        "\n",
        "<img src=\"https://github.com/wronnyhuang/word_embed_demo/blob/master/images/cosine_sim.png?raw=1\" style=\"width:800px;height:250px;\">\n",
        "<caption><center> **Figure 1**: The cosine of the angle between two vectors is a measure of how similar they are</center></caption>\n",
        "\n",
        "**Exercise**: Implement the function `cosine_similarity()` to evaluate similarity between word vectors.\n",
        "\n",
        "**Reminder**: The norm of $u$ is defined as $ ||u||_2 = \\sqrt{\\sum_{i=1}^{n} u_i^2}$"
      ]
    },
    {
      "metadata": {
        "id": "33JMd0vVUozE",
        "colab_type": "code",
        "colab": {}
      },
      "cell_type": "code",
      "source": [
        "# GRADED FUNCTION: cosine_similarity\n",
        "\n",
        "def cosine_similarity(u, v):\n",
        "    \"\"\"\n",
        "    Cosine similarity reflects the degree of similariy between u and v\n",
        "        \n",
        "    Arguments:\n",
        "        u -- a word vector of shape (n,)          \n",
        "        v -- a word vector of shape (n,)\n",
        "\n",
        "    Returns:\n",
        "        cosine_similarity -- the cosine similarity between u and v defined by the formula above.\n",
        "    \"\"\"\n",
        "    \n",
        "    distance = 0.0\n",
        "    \n",
        "    ### START CODE HERE ###\n",
        "    # Compute the dot product between u and v (≈1 line)\n",
        "    dot = np.dot(u,v)\n",
        "    # Compute the L2 norm of u (≈1 line)\n",
        "    norm_u = np.linalg.norm(u)\n",
        "    # Compute the L2 norm of v (≈1 line)\n",
        "    norm_v = np.linalg.norm(v)\n",
        "    # Compute the cosine similarity defined by formula (1) (≈1 line)\n",
        "    cosine_similarity = dot/(norm_u*norm_v)\n",
        "    ### END CODE HERE ###\n",
        "    \n",
        "    return cosine_similarity"
      ],
      "execution_count": 0,
      "outputs": []
    },
    {
      "metadata": {
        "id": "CYWOw5O0UozH",
        "colab_type": "code",
        "colab": {
          "base_uri": "https://localhost:8080/",
          "height": 69
        },
        "outputId": "b5c1110e-023f-40bb-ffd7-a0b10da95d65"
      },
      "cell_type": "code",
      "source": [
        "father = word_to_vec_map[\"father\"]\n",
        "mother = word_to_vec_map[\"mother\"]\n",
        "ball = word_to_vec_map[\"ball\"]\n",
        "crocodile = word_to_vec_map[\"crocodile\"]\n",
        "france = word_to_vec_map[\"france\"]\n",
        "italy = word_to_vec_map[\"italy\"]\n",
        "paris = word_to_vec_map[\"paris\"]\n",
        "rome = word_to_vec_map[\"rome\"]\n",
        "\n",
        "print(\"cosine_similarity(father, mother) = \", cosine_similarity(father, mother))\n",
        "print(\"cosine_similarity(ball, crocodile) = \",cosine_similarity(ball, crocodile))\n",
        "print(\"cosine_similarity(france - paris, rome - italy) = \",cosine_similarity(france - paris, rome - italy))"
      ],
      "execution_count": 8,
      "outputs": [
        {
          "output_type": "stream",
          "text": [
            "cosine_similarity(father, mother) =  0.8298245273848204\n",
            "cosine_similarity(ball, crocodile) =  0.11947030012391592\n",
            "cosine_similarity(france - paris, rome - italy) =  -0.34433750699397075\n"
          ],
          "name": "stdout"
        }
      ]
    },
    {
      "metadata": {
        "id": "6k_5AlGuUozN",
        "colab_type": "text"
      },
      "cell_type": "markdown",
      "source": [
        "**Expected Output**:\n",
        "\n",
        "<table>\n",
        "    <tr>\n",
        "        <td>\n",
        "            **cosine_similarity(father, mother)** =\n",
        "        </td>\n",
        "        <td>\n",
        "         0.890903844289\n",
        "        </td>\n",
        "    </tr>\n",
        "        <tr>\n",
        "        <td>\n",
        "            **cosine_similarity(ball, crocodile)** =\n",
        "        </td>\n",
        "        <td>\n",
        "         0.274392462614\n",
        "        </td>\n",
        "    </tr>\n",
        "        <tr>\n",
        "        <td>\n",
        "            **cosine_similarity(france - paris, rome - italy)** =\n",
        "        </td>\n",
        "        <td>\n",
        "         -0.675147930817\n",
        "        </td>\n",
        "    </tr>\n",
        "</table>"
      ]
    },
    {
      "metadata": {
        "id": "yo5ToA2JUozO",
        "colab_type": "text"
      },
      "cell_type": "markdown",
      "source": [
        "After you get the correct expected output, please feel free to modify the inputs and measure the cosine similarity between other pairs of words! Playing around the cosine similarity of other inputs will give you a better sense of how word vectors behave. "
      ]
    },
    {
      "metadata": {
        "id": "OyB89WsnUozP",
        "colab_type": "text"
      },
      "cell_type": "markdown",
      "source": [
        "## 2 - Word analogy task\n",
        "\n",
        "In the word analogy task, we complete the sentence <font color='brown'>\"*a* is to *b* as *c* is to **____**\"</font>. An example is <font color='brown'> '*man* is to *woman* as *king* is to *queen*' </font>. In detail, we are trying to find a word *d*, such that the associated word vectors $e_a, e_b, e_c, e_d$ are related in the following manner: $e_b - e_a \\approx e_d - e_c$. We will measure the similarity between $e_b - e_a$ and $e_d - e_c$ using cosine similarity. \n",
        "\n",
        "**Exercise**: Complete the code below to be able to perform word analogies!"
      ]
    },
    {
      "metadata": {
        "id": "RF-2laiXUozQ",
        "colab_type": "code",
        "colab": {}
      },
      "cell_type": "code",
      "source": [
        "# GRADED FUNCTION: complete_analogy\n",
        "\n",
        "def complete_analogy(word_a, word_b, word_c, word_to_vec_map):\n",
        "    \"\"\"\n",
        "    Performs the word analogy task as explained above: a is to b as c is to ____. \n",
        "    \n",
        "    Arguments:\n",
        "    word_a -- a word, string\n",
        "    word_b -- a word, string\n",
        "    word_c -- a word, string\n",
        "    word_to_vec_map -- dictionary that maps words to their corresponding vectors. \n",
        "    \n",
        "    Returns:\n",
        "    best_word --  the word such that v_b - v_a is close to v_best_word - v_c, as measured by cosine similarity\n",
        "    \"\"\"\n",
        "    \n",
        "    # convert words to lower case\n",
        "    word_a, word_b, word_c = word_a.lower(), word_b.lower(), word_c.lower()\n",
        "    \n",
        "    ### START CODE HERE ###\n",
        "    # Get the word embeddings v_a, v_b and v_c (≈1-3 lines)\n",
        "    e_a, e_b, e_c = word_to_vec_map[word_a],word_to_vec_map[word_b],word_to_vec_map[word_c]\n",
        "    \n",
        "    ### END CODE HERE ###\n",
        "    \n",
        "    words = word_to_vec_map.keys()\n",
        "    max_cosine_sim = -100              # Initialize max_cosine_sim to a large negative number\n",
        "    best_word = None                   # Initialize best_word with None, it will help keep track of the word to output\n",
        "\n",
        "    # loop over the whole word vector set\n",
        "    for w in words:        \n",
        "        # to avoid best_word being one of the input words, pass on them.\n",
        "        if w in [word_a, word_b, word_c]:\n",
        "            continue\n",
        "        \n",
        "        ### START CODE HERE ###\n",
        "        # Compute cosine similarity between the vector (e_b - e_a) and the vector ((w's vector representation) - e_c)  (≈1 line)\n",
        "#         print(len(e_a), len(e_b), len(e_c))\n",
        "        if len(e_a)!=300 or len(e_b)!=300 or len(e_c)!=300 or len(word_to_vec_map[w])!=300: continue\n",
        "        cosine_sim = cosine_similarity(e_b-e_a, word_to_vec_map[w]-e_c)\n",
        "        \n",
        "        # If the cosine_sim is more than the max_cosine_sim seen so far,\n",
        "            # then: set the new max_cosine_sim to the current cosine_sim and the best_word to the current word (≈3 lines)\n",
        "        if cosine_sim > max_cosine_sim:\n",
        "            max_cosine_sim = cosine_sim\n",
        "            best_word = w\n",
        "        ### END CODE HERE ###\n",
        "        \n",
        "    return best_word"
      ],
      "execution_count": 0,
      "outputs": []
    },
    {
      "metadata": {
        "id": "F5ZEr_SSUozV",
        "colab_type": "text"
      },
      "cell_type": "markdown",
      "source": [
        "Run the cell below to test your code, this may take 1-2 minutes."
      ]
    },
    {
      "metadata": {
        "id": "wrsXVYqdUozX",
        "colab_type": "code",
        "colab": {
          "base_uri": "https://localhost:8080/",
          "height": 605
        },
        "outputId": "125d189d-80a4-4f46-f895-57e79d9abc14"
      },
      "cell_type": "code",
      "source": [
        "triads_to_try = [('italy', 'italian', 'spain'),\n",
        "                 ('india', 'delhi', 'japan'),\n",
        "                 ('man', 'woman', 'boy'),\n",
        "                 ('small', 'smaller', 'large'),\n",
        "                 ('man','woman','king'),\n",
        "                 ('hot','cold','pleasure'),\n",
        "                 ('man','god','woman'),\n",
        "                 ('scissors','paper','knife'),\n",
        "                 ('eyes','glasses','head'),\n",
        "                 ('swimmer','swim','runner'),\n",
        "                 ('cat','cats','deer'),\n",
        "                 ('actor','actress','hero'),\n",
        "                 ('car','drive','boat'),\n",
        "                 ('life','death','joy'),\n",
        "                 ('dog','puppy','cat'),\n",
        "                 ('speak','sing','walk'),\n",
        "                 ('chef','food','sculptor'),\n",
        "                 ('bees','hive','bears'),\n",
        "                 ('like','love','dislike'),\n",
        "                 ('mansion','shack','yacht'),\n",
        "                 ('hammer','nail','comb'),\n",
        "                 ('sunglasses', 'sun', 'goggles'),\n",
        "                 ('snake','slither','horse'),\n",
        "                 ('cat','meow','dog'),\n",
        "                 ('moon','night','sun'),\n",
        "                 ('gray','black','pink'),\n",
        "                 ('pencil','write','scissors'),\n",
        "                 ('ski','snow','raft'),\n",
        "                 ('one','penny','five'),\n",
        "                 ('sing','sang','drink'),\n",
        "                 ('sound','ear','aroma'),\n",
        "                 ('referee','soccer','umpire'),\n",
        "                 ('apple','fruit','beef'),\n",
        "                 ('actor','act','artist')]\n",
        "for triad in triads_to_try:\n",
        "    print ('{} -> {} :: {} -> {}'.format( *triad, complete_analogy(*triad, word_to_vec_map)))"
      ],
      "execution_count": 21,
      "outputs": [
        {
          "output_type": "stream",
          "text": [
            "italy -> italian :: spain -> spanish\n",
            "india -> delhi :: japan -> vihar\n",
            "man -> woman :: boy -> girl\n",
            "small -> smaller :: large -> larger\n",
            "man -> woman :: king -> queen\n",
            "hot -> cold :: pleasure -> coldness\n",
            "man -> god :: woman -> goddess\n",
            "scissors -> paper :: knife -> papers\n",
            "eyes -> glasses :: head -> Glasses\n",
            "swimmer -> swim :: runner -> walk\n",
            "cat -> cats :: deer -> coyotes\n",
            "actor -> actress :: hero -> heroine\n",
            "car -> drive :: boat -> drives\n",
            "life -> death :: joy -> deaths\n",
            "dog -> puppy :: cat -> kitten\n",
            "speak -> sing :: walk -> singing\n",
            "chef -> food :: sculptor -> foods\n",
            "bees -> hive :: bears -> workspace\n",
            "like -> love :: dislike -> adore\n",
            "mansion -> shack :: yacht -> Shack\n",
            "hammer -> nail :: comb -> Nail\n",
            "sunglasses -> sun :: goggles -> sunlight\n",
            "snake -> slither :: horse -> sidle\n",
            "cat -> meow :: dog -> woof\n",
            "moon -> night :: sun -> afternoon\n",
            "gray -> black :: pink -> lesbian\n",
            "pencil -> write :: scissors -> read\n",
            "ski -> snow :: raft -> rain\n",
            "one -> penny :: five -> pennies\n",
            "sing -> sang :: drink -> drank\n",
            "sound -> ear :: aroma -> earlobe\n",
            "referee -> soccer :: umpire -> softball\n",
            "apple -> fruit :: beef -> fruits\n",
            "actor -> act :: artist -> acts\n"
          ],
          "name": "stdout"
        }
      ]
    },
    {
      "metadata": {
        "id": "lVBtYeiKUozc",
        "colab_type": "text"
      },
      "cell_type": "markdown",
      "source": [
        "**Expected Output**:\n",
        "\n",
        "<table>\n",
        "    <tr>\n",
        "        <td>\n",
        "            **italy -> italian** ::\n",
        "        </td>\n",
        "        <td>\n",
        "         spain -> spanish\n",
        "        </td>\n",
        "    </tr>\n",
        "        <tr>\n",
        "        <td>\n",
        "            **india -> delhi** ::\n",
        "        </td>\n",
        "        <td>\n",
        "         japan -> tokyo\n",
        "        </td>\n",
        "    </tr>\n",
        "        <tr>\n",
        "        <td>\n",
        "            **man -> woman ** ::\n",
        "        </td>\n",
        "        <td>\n",
        "         boy -> girl\n",
        "        </td>\n",
        "    </tr>\n",
        "        <tr>\n",
        "        <td>\n",
        "            **small -> smaller ** ::\n",
        "        </td>\n",
        "        <td>\n",
        "         large -> larger\n",
        "        </td>\n",
        "    </tr>\n",
        "</table>"
      ]
    },
    {
      "metadata": {
        "id": "4fRiY0pdUozd",
        "colab_type": "text"
      },
      "cell_type": "markdown",
      "source": [
        "Once you get the correct expected output, please feel free to modify the input cells above to test your own analogies. Try to find some other analogy pairs that do work, but also find some where the algorithm doesn't give the right answer: For example, you can try small->smaller as big->?.  "
      ]
    },
    {
      "metadata": {
        "id": "120-TNgyUozf",
        "colab_type": "text"
      },
      "cell_type": "markdown",
      "source": [
        "### Congratulations!\n",
        "\n",
        "You've come to the end of this assignment. Here are the main points you should remember:\n",
        "\n",
        "- Cosine similarity a good way to compare similarity between pairs of word vectors. (Though L2 distance works too.) \n",
        "- For NLP applications, using a pre-trained set of word vectors from the internet is often a good way to get started. \n",
        "\n",
        "Even though you have finished the graded portions, we recommend you take a look too at the rest of this notebook. \n",
        "\n",
        "Congratulations on finishing the graded portions of this notebook! \n"
      ]
    },
    {
      "metadata": {
        "id": "dXZhZHYKUozh",
        "colab_type": "text"
      },
      "cell_type": "markdown",
      "source": [
        "## 3 - Debiasing word vectors (OPTIONAL/UNGRADED) "
      ]
    },
    {
      "metadata": {
        "id": "Tt-o6ihmUozh",
        "colab_type": "text"
      },
      "cell_type": "markdown",
      "source": [
        "In the following exercise, you will examine gender biases that can be reflected in a word embedding, and explore algorithms for reducing the bias. In addition to learning about the topic of debiasing, this exercise will also help hone your intuition about what word vectors are doing. This section involves a bit of linear algebra, though you can probably complete it even without being expert in linear algebra, and we encourage you to give it a shot. This portion of the notebook is optional and is not graded. \n",
        "\n",
        "Lets first see how the GloVe word embeddings relate to gender. You will first compute a vector $g = e_{woman}-e_{man}$, where $e_{woman}$ represents the word vector corresponding to the word *woman*, and $e_{man}$ corresponds to the word vector corresponding to the word *man*. The resulting vector $g$ roughly encodes the concept of \"gender\". (You might get a more accurate representation if you compute $g_1 = e_{mother}-e_{father}$, $g_2 = e_{girl}-e_{boy}$, etc. and average over them. But just using $e_{woman}-e_{man}$ will give good enough results for now.) \n"
      ]
    },
    {
      "metadata": {
        "id": "ov7UU2RnUozj",
        "colab_type": "code",
        "colab": {}
      },
      "cell_type": "code",
      "source": [
        "g = word_to_vec_map['woman'] - word_to_vec_map['man']\n",
        "print(g)"
      ],
      "execution_count": 0,
      "outputs": []
    },
    {
      "metadata": {
        "id": "SrvLfcByUozp",
        "colab_type": "text"
      },
      "cell_type": "markdown",
      "source": [
        "Now, you will consider the cosine similarity of different words with $g$. Consider what a positive value of similarity means vs a negative cosine similarity. "
      ]
    },
    {
      "metadata": {
        "id": "-RwGl40MUozq",
        "colab_type": "code",
        "colab": {}
      },
      "cell_type": "code",
      "source": [
        "print ('List of names and their similarities with constructed vector:')\n",
        "\n",
        "# girls and boys name\n",
        "name_list = ['john', 'marie', 'sophie', 'ronaldo', 'priya', 'rahul', 'danielle', 'reza', 'katy', 'yasmin']\n",
        "\n",
        "for w in name_list:\n",
        "    print (w, cosine_similarity(word_to_vec_map[w], g))"
      ],
      "execution_count": 0,
      "outputs": []
    },
    {
      "metadata": {
        "id": "sbz_y9uhUoz8",
        "colab_type": "text"
      },
      "cell_type": "markdown",
      "source": [
        "As you can see, female first names tend to have a positive cosine similarity with our constructed vector $g$, while male first names tend to have a negative cosine similarity. This is not suprising, and the result seems acceptable. \n",
        "\n",
        "But let's try with some other words."
      ]
    },
    {
      "metadata": {
        "id": "JNMSV1JbUoz8",
        "colab_type": "code",
        "colab": {}
      },
      "cell_type": "code",
      "source": [
        "print('Other words and their similarities:')\n",
        "word_list = ['lipstick', 'guns', 'science', 'arts', 'literature', 'warrior','doctor', 'tree', 'receptionist', \n",
        "             'technology',  'fashion', 'teacher', 'engineer', 'pilot', 'computer', 'singer']\n",
        "for w in word_list:\n",
        "    print (w, cosine_similarity(word_to_vec_map[w], g))"
      ],
      "execution_count": 0,
      "outputs": []
    },
    {
      "metadata": {
        "id": "2b1qOQV3Uo0A",
        "colab_type": "text"
      },
      "cell_type": "markdown",
      "source": [
        "Do you notice anything surprising? It is astonishing how these results reflect certain unhealthy gender stereotypes. For example, \"computer\" is closer to \"man\" while \"literature\" is closer to \"woman\". Ouch! \n",
        "\n",
        "We'll see below how to reduce the bias of these vectors, using an algorithm due to [Boliukbasi et al., 2016](https://arxiv.org/abs/1607.06520). Note that some word pairs such as \"actor\"/\"actress\" or \"grandmother\"/\"grandfather\" should remain gender specific, while other words such as \"receptionist\" or \"technology\" should be neutralized, i.e. not be gender-related. You will have to treat these two type of words differently when debiasing.\n",
        "\n",
        "### 3.1 - Neutralize bias for non-gender specific words \n",
        "\n",
        "The figure below should help you visualize what neutralizing does. If you're using a 50-dimensional word embedding, the 50 dimensional space can be split into two parts: The bias-direction $g$, and the remaining 49 dimensions, which we'll call $g_{\\perp}$. In linear algebra, we say that the 49 dimensional $g_{\\perp}$ is perpendicular (or \"othogonal\") to $g$, meaning it is at 90 degrees to $g$. The neutralization step takes a vector such as $e_{receptionist}$ and zeros out the component in the direction of $g$, giving us $e_{receptionist}^{debiased}$. \n",
        "\n",
        "Even though $g_{\\perp}$ is 49 dimensional, given the limitations of what we can draw on a screen, we illustrate it using a 1 dimensional axis below. \n",
        "\n",
        "<img src=\"https://github.com/wronnyhuang/word_embed_demo/blob/master/images/neutral.png?raw=1\" style=\"width:800px;height:300px;\">\n",
        "<caption><center> **Figure 2**: The word vector for \"receptionist\" represented before and after applying the neutralize operation. </center></caption>\n",
        "\n",
        "**Exercise**: Implement `neutralize()` to remove the bias of words such as \"receptionist\" or \"scientist\". Given an input embedding $e$, you can use the following formulas to compute $e^{debiased}$: \n",
        "\n",
        "$$e^{bias\\_component} = \\frac{e \\cdot g}{||g||_2^2} * g\\tag{2}$$\n",
        "$$e^{debiased} = e - e^{bias\\_component}\\tag{3}$$\n",
        "\n",
        "If you are an expert in linear algebra, you may recognize $e^{bias\\_component}$ as the projection of $e$ onto the direction $g$. If you're not an expert in linear algebra, don't worry about this.\n",
        "\n",
        "<!-- \n",
        "**Reminder**: a vector $u$ can be split into two parts: its projection over a vector-axis $v_B$ and its projection over the axis orthogonal to $v$:\n",
        "$$u = u_B + u_{\\perp}$$\n",
        "where : $u_B = $ and $ u_{\\perp} = u - u_B $\n",
        "!--> "
      ]
    },
    {
      "metadata": {
        "id": "Qq4Oz3QIUo0C",
        "colab_type": "code",
        "colab": {}
      },
      "cell_type": "code",
      "source": [
        "def neutralize(word, g, word_to_vec_map):\n",
        "    \"\"\"\n",
        "    Removes the bias of \"word\" by projecting it on the space orthogonal to the bias axis. \n",
        "    This function ensures that gender neutral words are zero in the gender subspace.\n",
        "    \n",
        "    Arguments:\n",
        "        word -- string indicating the word to debias\n",
        "        g -- numpy-array of shape (50,), corresponding to the bias axis (such as gender)\n",
        "        word_to_vec_map -- dictionary mapping words to their corresponding vectors.\n",
        "    \n",
        "    Returns:\n",
        "        e_debiased -- neutralized word vector representation of the input \"word\"\n",
        "    \"\"\"\n",
        "    \n",
        "    ### START CODE HERE ###\n",
        "    # Select word vector representation of \"word\". Use word_to_vec_map. (≈ 1 line)\n",
        "    e = None\n",
        "    \n",
        "    # Compute e_biascomponent using the formula give above. (≈ 1 line)\n",
        "    e_biascomponent = None\n",
        " \n",
        "    # Neutralize e by substracting e_biascomponent from it \n",
        "    # e_debiased should be equal to its orthogonal projection. (≈ 1 line)\n",
        "    e_debiased = None\n",
        "    ### END CODE HERE ###\n",
        "    \n",
        "    return e_debiased"
      ],
      "execution_count": 0,
      "outputs": []
    },
    {
      "metadata": {
        "id": "ElGQBoVuUo0F",
        "colab_type": "code",
        "colab": {}
      },
      "cell_type": "code",
      "source": [
        "e = \"receptionist\"\n",
        "print(\"cosine similarity between \" + e + \" and g, before neutralizing: \", cosine_similarity(word_to_vec_map[\"receptionist\"], g))\n",
        "\n",
        "e_debiased = neutralize(\"receptionist\", g, word_to_vec_map)\n",
        "print(\"cosine similarity between \" + e + \" and g, after neutralizing: \", cosine_similarity(e_debiased, g))"
      ],
      "execution_count": 0,
      "outputs": []
    },
    {
      "metadata": {
        "id": "z_JPnLevUo0J",
        "colab_type": "text"
      },
      "cell_type": "markdown",
      "source": [
        "**Expected Output**: The second result is essentially 0, up to numerical roundof (on the order of $10^{-17}$).\n",
        "\n",
        "\n",
        "<table>\n",
        "    <tr>\n",
        "        <td>\n",
        "            **cosine similarity between receptionist and g, before neutralizing:** :\n",
        "        </td>\n",
        "        <td>\n",
        "         0.330779417506\n",
        "        </td>\n",
        "    </tr>\n",
        "        <tr>\n",
        "        <td>\n",
        "            **cosine similarity between receptionist and g, after neutralizing:** :\n",
        "        </td>\n",
        "        <td>\n",
        "         -3.26732746085e-17\n",
        "    </tr>\n",
        "</table>"
      ]
    },
    {
      "metadata": {
        "id": "Bfvpl5lzUo0K",
        "colab_type": "text"
      },
      "cell_type": "markdown",
      "source": [
        "### 3.2 - Equalization algorithm for gender-specific words\n",
        "\n",
        "Next, lets see how debiasing can also be applied to word pairs such as \"actress\" and \"actor.\" Equalization is applied to pairs of words that you might want to have differ only through the gender property. As a concrete example, suppose that \"actress\" is closer to \"babysit\" than \"actor.\" By applying neutralizing to \"babysit\" we can reduce the gender-stereotype associated with babysitting. But this still does not guarantee that \"actor\" and \"actress\" are equidistant from \"babysit.\" The equalization algorithm takes care of this. \n",
        "\n",
        "The key idea behind equalization is to make sure that a particular pair of words are equi-distant from the 49-dimensional $g_\\perp$. The equalization step also ensures that the two equalized steps are now the same distance from $e_{receptionist}^{debiased}$, or from any other work that has been neutralized. In pictures, this is how equalization works: \n",
        "\n",
        "<img src=\"https://github.com/wronnyhuang/word_embed_demo/blob/master/images/equalize10.png?raw=1\" style=\"width:800px;height:400px;\">\n",
        "\n",
        "\n",
        "The derivation of the linear algebra to do this is a bit more complex. (See Bolukbasi et al., 2016 for details.) But the key equations are: \n",
        "\n",
        "$$ \\mu = \\frac{e_{w1} + e_{w2}}{2}\\tag{4}$$ \n",
        "\n",
        "$$ \\mu_{B} = \\frac {\\mu \\cdot \\text{bias_axis}}{||\\text{bias_axis}||_2^2} *\\text{bias_axis}\n",
        "\\tag{5}$$ \n",
        "\n",
        "$$\\mu_{\\perp} = \\mu - \\mu_{B} \\tag{6}$$\n",
        "\n",
        "$$ e_{w1B} = \\frac {e_{w1} \\cdot \\text{bias_axis}}{||\\text{bias_axis}||_2^2} *\\text{bias_axis}\n",
        "\\tag{7}$$ \n",
        "$$ e_{w2B} = \\frac {e_{w2} \\cdot \\text{bias_axis}}{||\\text{bias_axis}||_2^2} *\\text{bias_axis}\n",
        "\\tag{8}$$\n",
        "\n",
        "\n",
        "$$e_{w1B}^{corrected} = \\sqrt{ |{1 - ||\\mu_{\\perp} ||^2_2} |} * \\frac{e_{\\text{w1B}} - \\mu_B} {|(e_{w1} - \\mu_{\\perp}) - \\mu_B)|} \\tag{9}$$\n",
        "\n",
        "\n",
        "$$e_{w2B}^{corrected} = \\sqrt{ |{1 - ||\\mu_{\\perp} ||^2_2} |} * \\frac{e_{\\text{w2B}} - \\mu_B} {|(e_{w2} - \\mu_{\\perp}) - \\mu_B)|} \\tag{10}$$\n",
        "\n",
        "$$e_1 = e_{w1B}^{corrected} + \\mu_{\\perp} \\tag{11}$$\n",
        "$$e_2 = e_{w2B}^{corrected} + \\mu_{\\perp} \\tag{12}$$\n",
        "\n",
        "\n",
        "**Exercise**: Implement the function below. Use the equations above to get the final equalized version of the pair of words. Good luck!"
      ]
    },
    {
      "metadata": {
        "id": "WiOyEX78Uo0M",
        "colab_type": "code",
        "colab": {}
      },
      "cell_type": "code",
      "source": [
        "def equalize(pair, bias_axis, word_to_vec_map):\n",
        "    \"\"\"\n",
        "    Debias gender specific words by following the equalize method described in the figure above.\n",
        "    \n",
        "    Arguments:\n",
        "    pair -- pair of strings of gender specific words to debias, e.g. (\"actress\", \"actor\") \n",
        "    bias_axis -- numpy-array of shape (50,), vector corresponding to the bias axis, e.g. gender\n",
        "    word_to_vec_map -- dictionary mapping words to their corresponding vectors\n",
        "    \n",
        "    Returns\n",
        "    e_1 -- word vector corresponding to the first word\n",
        "    e_2 -- word vector corresponding to the second word\n",
        "    \"\"\"\n",
        "    \n",
        "    ### START CODE HERE ###\n",
        "    # Step 1: Select word vector representation of \"word\". Use word_to_vec_map. (≈ 2 lines)\n",
        "    w1, w2 = None\n",
        "    e_w1, e_w2 = None\n",
        "    \n",
        "    # Step 2: Compute the mean of e_w1 and e_w2 (≈ 1 line)\n",
        "    mu = None\n",
        "\n",
        "    # Step 3: Compute the projections of mu over the bias axis and the orthogonal axis (≈ 2 lines)\n",
        "    mu_B = None\n",
        "    mu_orth = None\n",
        "\n",
        "    # Step 4: Use equations (7) and (8) to compute e_w1B and e_w2B (≈2 lines)\n",
        "    e_w1B = None\n",
        "    e_w2B = None\n",
        "        \n",
        "    # Step 5: Adjust the Bias part of e_w1B and e_w2B using the formulas (9) and (10) given above (≈2 lines)\n",
        "    corrected_e_w1B = None\n",
        "    corrected_e_w2B = None\n",
        "\n",
        "    # Step 6: Debias by equalizing e1 and e2 to the sum of their corrected projections (≈2 lines)\n",
        "    e1 = None\n",
        "    e2 = None\n",
        "                                                                \n",
        "    ### END CODE HERE ###\n",
        "    \n",
        "    return e1, e2"
      ],
      "execution_count": 0,
      "outputs": []
    },
    {
      "metadata": {
        "id": "bPt24A10Uo0P",
        "colab_type": "code",
        "colab": {}
      },
      "cell_type": "code",
      "source": [
        "print(\"cosine similarities before equalizing:\")\n",
        "print(\"cosine_similarity(word_to_vec_map[\\\"man\\\"], gender) = \", cosine_similarity(word_to_vec_map[\"man\"], g))\n",
        "print(\"cosine_similarity(word_to_vec_map[\\\"woman\\\"], gender) = \", cosine_similarity(word_to_vec_map[\"woman\"], g))\n",
        "print()\n",
        "e1, e2 = equalize((\"man\", \"woman\"), g, word_to_vec_map)\n",
        "print(\"cosine similarities after equalizing:\")\n",
        "print(\"cosine_similarity(e1, gender) = \", cosine_similarity(e1, g))\n",
        "print(\"cosine_similarity(e2, gender) = \", cosine_similarity(e2, g))"
      ],
      "execution_count": 0,
      "outputs": []
    },
    {
      "metadata": {
        "id": "10-jf1JaUo0R",
        "colab_type": "text"
      },
      "cell_type": "markdown",
      "source": [
        "**Expected Output**:\n",
        "\n",
        "cosine similarities before equalizing:\n",
        "<table>\n",
        "    <tr>\n",
        "        <td>\n",
        "            **cosine_similarity(word_to_vec_map[\"man\"], gender)** =\n",
        "        </td>\n",
        "        <td>\n",
        "         -0.117110957653\n",
        "        </td>\n",
        "    </tr>\n",
        "        <tr>\n",
        "        <td>\n",
        "            **cosine_similarity(word_to_vec_map[\"woman\"], gender)** =\n",
        "        </td>\n",
        "        <td>\n",
        "         0.356666188463\n",
        "        </td>\n",
        "    </tr>\n",
        "</table>\n",
        "\n",
        "cosine similarities after equalizing:\n",
        "<table>\n",
        "    <tr>\n",
        "        <td>\n",
        "            **cosine_similarity(u1, gender)** =\n",
        "        </td>\n",
        "        <td>\n",
        "         -0.700436428931\n",
        "        </td>\n",
        "    </tr>\n",
        "        <tr>\n",
        "        <td>\n",
        "            **cosine_similarity(u2, gender)** =\n",
        "        </td>\n",
        "        <td>\n",
        "         0.700436428931\n",
        "        </td>\n",
        "    </tr>\n",
        "</table>"
      ]
    },
    {
      "metadata": {
        "id": "jeSSLfwmUo0S",
        "colab_type": "text"
      },
      "cell_type": "markdown",
      "source": [
        "Please feel free to play with the input words in the cell above, to apply equalization to other pairs of words. \n",
        "\n",
        "These debiasing algorithms are very helpful for reducing bias, but are not perfect and do not eliminate all traces of bias. For example, one weakness of this implementation was that the bias direction $g$ was defined using only the pair of words _woman_ and _man_. As discussed earlier, if $g$ were defined by computing $g_1 = e_{woman} - e_{man}$; $g_2 = e_{mother} - e_{father}$; $g_3 = e_{girl} - e_{boy}$; and so on and averaging over them, you would obtain a better estimate of the \"gender\" dimension in the 50 dimensional word embedding space. Feel free to play with such variants as well.  \n",
        "                     "
      ]
    },
    {
      "metadata": {
        "id": "r6Ow4876Uo0T",
        "colab_type": "text"
      },
      "cell_type": "markdown",
      "source": [
        "### Congratulations\n",
        "\n",
        "You have come to the end of this notebook, and have seen a lot of the ways that word vectors can be used as well as  modified. \n",
        "\n",
        "Congratulations on finishing this notebook! \n"
      ]
    },
    {
      "metadata": {
        "id": "a11nZJm-Uo0U",
        "colab_type": "text"
      },
      "cell_type": "markdown",
      "source": [
        "**References**:\n",
        "- The debiasing algorithm is from Bolukbasi et al., 2016, [Man is to Computer Programmer as Woman is to\n",
        "Homemaker? Debiasing Word Embeddings](https://papers.nips.cc/paper/6228-man-is-to-computer-programmer-as-woman-is-to-homemaker-debiasing-word-embeddings.pdf)\n",
        "- The GloVe word embeddings were due to Jeffrey Pennington, Richard Socher, and Christopher D. Manning. (https://nlp.stanford.edu/projects/glove/)\n"
      ]
    }
  ]
}